{
 "cells": [
  {
   "cell_type": "code",
   "execution_count": 661,
   "id": "a63acd71-a7b0-404b-88e8-ca915f6f4abb",
   "metadata": {},
   "outputs": [],
   "source": [
    "import pandas as pd\n",
    "import numpy as np\n",
    "import seaborn as sns\n",
    "import matplotlib.pyplot as plt\n",
    "from tqdm import tqdm\n",
    "from datetime import timedelta"
   ]
  },
  {
   "cell_type": "markdown",
   "id": "948006f9-b733-4739-b85e-590588bc695d",
   "metadata": {},
   "source": [
    "## Part 1: Explore the dataset to get familiar with it"
   ]
  },
  {
   "cell_type": "markdown",
   "id": "a0c57d58-bd5f-409a-953f-e92055f89794",
   "metadata": {},
   "source": [
    "for this study, it will focus on ticket_items_manipulated sheet from the given excel file\n",
    "\n",
    "in this section, it will focus on the preprocessing part of the data before going into the analysis"
   ]
  },
  {
   "cell_type": "code",
   "execution_count": 662,
   "id": "4c7d55c4-a6b2-44e5-bb8c-de357c1ec5ce",
   "metadata": {},
   "outputs": [],
   "source": [
    "# Importing data from provided excel spreadsheet\n",
    "\n",
    "# for the Ticket Items Manipulated Sheet\n",
    "rawdata1 = pd.read_csv('rawdata.csv')\n"
   ]
  },
  {
   "cell_type": "code",
   "execution_count": 663,
   "id": "484ebc9f-a2bc-4c44-8cef-16cd11242362",
   "metadata": {},
   "outputs": [
    {
     "data": {
      "text/html": [
       "<div>\n",
       "<style scoped>\n",
       "    .dataframe tbody tr th:only-of-type {\n",
       "        vertical-align: middle;\n",
       "    }\n",
       "\n",
       "    .dataframe tbody tr th {\n",
       "        vertical-align: top;\n",
       "    }\n",
       "\n",
       "    .dataframe thead th {\n",
       "        text-align: right;\n",
       "    }\n",
       "</style>\n",
       "<table border=\"1\" class=\"dataframe\">\n",
       "  <thead>\n",
       "    <tr style=\"text-align: right;\">\n",
       "      <th></th>\n",
       "      <th>id</th>\n",
       "      <th>state</th>\n",
       "      <th>priority</th>\n",
       "      <th>created_at</th>\n",
       "      <th>updated_at</th>\n",
       "      <th>started_at</th>\n",
       "      <th>started_move</th>\n",
       "      <th>finished_move</th>\n",
       "      <th>started_dispense</th>\n",
       "      <th>finished_dispense</th>\n",
       "      <th>...</th>\n",
       "      <th>ingredient_id</th>\n",
       "      <th>ticket_id</th>\n",
       "      <th>mass</th>\n",
       "      <th>actual_mass</th>\n",
       "      <th>item_cost</th>\n",
       "      <th>location</th>\n",
       "      <th>ticket_id_counts</th>\n",
       "      <th>move_no_in_sequence</th>\n",
       "      <th>priority_list</th>\n",
       "      <th>ingredient_list</th>\n",
       "    </tr>\n",
       "  </thead>\n",
       "  <tbody>\n",
       "    <tr>\n",
       "      <th>0</th>\n",
       "      <td>3886f472-4770-4c8b-970e-922a236472a0</td>\n",
       "      <td>TICKETITEM_DONE</td>\n",
       "      <td>20</td>\n",
       "      <td>2021-09-27 09:22:55.629269</td>\n",
       "      <td>2021-09-27 11:02:27.862552</td>\n",
       "      <td>2021-09-27 10:58:00.084215+00:00</td>\n",
       "      <td>2021-09-27 10:58:00.084215</td>\n",
       "      <td>2021-09-27 10:58:12.291976</td>\n",
       "      <td>2021-09-27 10:58:12.291976</td>\n",
       "      <td>2021-09-27 10:58:55.826401</td>\n",
       "      <td>...</td>\n",
       "      <td>8bf1771c-a330-4410-a890-b7b7c7b621b3</td>\n",
       "      <td>d72665d4-7c9b-4747-94bd-a55583fc509e</td>\n",
       "      <td>110000</td>\n",
       "      <td>117273</td>\n",
       "      <td>0.0</td>\n",
       "      <td>NaN</td>\n",
       "      <td>7</td>\n",
       "      <td>0</td>\n",
       "      <td>20, 40, 100, 120, 130, 140, 150</td>\n",
       "      <td>NaN</td>\n",
       "    </tr>\n",
       "    <tr>\n",
       "      <th>1</th>\n",
       "      <td>052d6eb4-faf4-440e-b703-6a98bf6f99f1</td>\n",
       "      <td>TICKETITEM_DONE</td>\n",
       "      <td>40</td>\n",
       "      <td>2021-09-27 09:22:55.634039</td>\n",
       "      <td>2021-09-27 11:02:27.863363</td>\n",
       "      <td>2021-09-27 10:58:57.131940+00:00</td>\n",
       "      <td>2021-09-27 10:58:57.131940</td>\n",
       "      <td>2021-09-27 10:59:08.717437</td>\n",
       "      <td>2021-09-27 10:59:08.717438</td>\n",
       "      <td>2021-09-27 10:59:39.916711</td>\n",
       "      <td>...</td>\n",
       "      <td>85e5083f-1736-4922-9bf7-1cf7da802d64</td>\n",
       "      <td>d72665d4-7c9b-4747-94bd-a55583fc509e</td>\n",
       "      <td>84000</td>\n",
       "      <td>84035</td>\n",
       "      <td>0.0</td>\n",
       "      <td>NaN</td>\n",
       "      <td>7</td>\n",
       "      <td>1</td>\n",
       "      <td>20, 40, 100, 120, 130, 140, 150</td>\n",
       "      <td>NaN</td>\n",
       "    </tr>\n",
       "    <tr>\n",
       "      <th>2</th>\n",
       "      <td>089e162f-f4ee-4903-9c95-c8299c74db05</td>\n",
       "      <td>TICKETITEM_DONE</td>\n",
       "      <td>100</td>\n",
       "      <td>2021-09-27 09:22:55.635819</td>\n",
       "      <td>2021-09-27 11:02:27.864089</td>\n",
       "      <td>2021-09-27 10:59:42.844839+00:00</td>\n",
       "      <td>2021-09-27 10:59:42.844839</td>\n",
       "      <td>2021-09-27 10:59:52.747807</td>\n",
       "      <td>2021-09-27 10:59:52.747807</td>\n",
       "      <td>2021-09-27 11:00:01.407931</td>\n",
       "      <td>...</td>\n",
       "      <td>87941a51-fd64-4171-95b9-db76bd4465f0</td>\n",
       "      <td>d72665d4-7c9b-4747-94bd-a55583fc509e</td>\n",
       "      <td>40000</td>\n",
       "      <td>40889</td>\n",
       "      <td>0.0</td>\n",
       "      <td>NaN</td>\n",
       "      <td>7</td>\n",
       "      <td>2</td>\n",
       "      <td>20, 40, 100, 120, 130, 140, 150</td>\n",
       "      <td>NaN</td>\n",
       "    </tr>\n",
       "    <tr>\n",
       "      <th>3</th>\n",
       "      <td>9e0cd9e2-d006-4104-9b6a-647da3f3f9a7</td>\n",
       "      <td>TICKETITEM_DONE</td>\n",
       "      <td>120</td>\n",
       "      <td>2021-09-27 09:22:55.637931</td>\n",
       "      <td>2021-09-27 11:02:27.864890</td>\n",
       "      <td>2021-09-27 11:00:10.028055+00:00</td>\n",
       "      <td>2021-09-27 11:00:10.028056</td>\n",
       "      <td>2021-09-27 11:00:19.765198</td>\n",
       "      <td>2021-09-27 11:00:19.765198</td>\n",
       "      <td>2021-09-27 11:00:28.571693</td>\n",
       "      <td>...</td>\n",
       "      <td>4c02a8a1-7b6d-43ef-b639-03f0b7b7a4b1</td>\n",
       "      <td>d72665d4-7c9b-4747-94bd-a55583fc509e</td>\n",
       "      <td>18000</td>\n",
       "      <td>21887</td>\n",
       "      <td>0.0</td>\n",
       "      <td>NaN</td>\n",
       "      <td>7</td>\n",
       "      <td>3</td>\n",
       "      <td>20, 40, 100, 120, 130, 140, 150</td>\n",
       "      <td>NaN</td>\n",
       "    </tr>\n",
       "    <tr>\n",
       "      <th>4</th>\n",
       "      <td>66678299-55cf-4982-a0ea-61613795358b</td>\n",
       "      <td>TICKETITEM_DONE</td>\n",
       "      <td>130</td>\n",
       "      <td>2021-09-27 09:22:55.639783</td>\n",
       "      <td>2021-09-27 11:02:27.865631</td>\n",
       "      <td>2021-09-27 11:00:29.726715+00:00</td>\n",
       "      <td>2021-09-27 11:00:29.726715</td>\n",
       "      <td>2021-09-27 11:00:37.766834</td>\n",
       "      <td>2021-09-27 11:00:37.766834</td>\n",
       "      <td>2021-09-27 11:00:44.556128</td>\n",
       "      <td>...</td>\n",
       "      <td>e1d855b2-f0b5-45d8-a1f8-a10ba21eed20</td>\n",
       "      <td>d72665d4-7c9b-4747-94bd-a55583fc509e</td>\n",
       "      <td>2000</td>\n",
       "      <td>2583</td>\n",
       "      <td>0.0</td>\n",
       "      <td>NaN</td>\n",
       "      <td>7</td>\n",
       "      <td>4</td>\n",
       "      <td>20, 40, 100, 120, 130, 140, 150</td>\n",
       "      <td>NaN</td>\n",
       "    </tr>\n",
       "  </tbody>\n",
       "</table>\n",
       "<p>5 rows × 22 columns</p>\n",
       "</div>"
      ],
      "text/plain": [
       "                                     id            state  priority  \\\n",
       "0  3886f472-4770-4c8b-970e-922a236472a0  TICKETITEM_DONE        20   \n",
       "1  052d6eb4-faf4-440e-b703-6a98bf6f99f1  TICKETITEM_DONE        40   \n",
       "2  089e162f-f4ee-4903-9c95-c8299c74db05  TICKETITEM_DONE       100   \n",
       "3  9e0cd9e2-d006-4104-9b6a-647da3f3f9a7  TICKETITEM_DONE       120   \n",
       "4  66678299-55cf-4982-a0ea-61613795358b  TICKETITEM_DONE       130   \n",
       "\n",
       "                   created_at                  updated_at  \\\n",
       "0  2021-09-27 09:22:55.629269  2021-09-27 11:02:27.862552   \n",
       "1  2021-09-27 09:22:55.634039  2021-09-27 11:02:27.863363   \n",
       "2  2021-09-27 09:22:55.635819  2021-09-27 11:02:27.864089   \n",
       "3  2021-09-27 09:22:55.637931  2021-09-27 11:02:27.864890   \n",
       "4  2021-09-27 09:22:55.639783  2021-09-27 11:02:27.865631   \n",
       "\n",
       "                         started_at                started_move  \\\n",
       "0  2021-09-27 10:58:00.084215+00:00  2021-09-27 10:58:00.084215   \n",
       "1  2021-09-27 10:58:57.131940+00:00  2021-09-27 10:58:57.131940   \n",
       "2  2021-09-27 10:59:42.844839+00:00  2021-09-27 10:59:42.844839   \n",
       "3  2021-09-27 11:00:10.028055+00:00  2021-09-27 11:00:10.028056   \n",
       "4  2021-09-27 11:00:29.726715+00:00  2021-09-27 11:00:29.726715   \n",
       "\n",
       "                finished_move            started_dispense  \\\n",
       "0  2021-09-27 10:58:12.291976  2021-09-27 10:58:12.291976   \n",
       "1  2021-09-27 10:59:08.717437  2021-09-27 10:59:08.717438   \n",
       "2  2021-09-27 10:59:52.747807  2021-09-27 10:59:52.747807   \n",
       "3  2021-09-27 11:00:19.765198  2021-09-27 11:00:19.765198   \n",
       "4  2021-09-27 11:00:37.766834  2021-09-27 11:00:37.766834   \n",
       "\n",
       "            finished_dispense  ...                         ingredient_id  \\\n",
       "0  2021-09-27 10:58:55.826401  ...  8bf1771c-a330-4410-a890-b7b7c7b621b3   \n",
       "1  2021-09-27 10:59:39.916711  ...  85e5083f-1736-4922-9bf7-1cf7da802d64   \n",
       "2  2021-09-27 11:00:01.407931  ...  87941a51-fd64-4171-95b9-db76bd4465f0   \n",
       "3  2021-09-27 11:00:28.571693  ...  4c02a8a1-7b6d-43ef-b639-03f0b7b7a4b1   \n",
       "4  2021-09-27 11:00:44.556128  ...  e1d855b2-f0b5-45d8-a1f8-a10ba21eed20   \n",
       "\n",
       "                              ticket_id    mass actual_mass  item_cost  \\\n",
       "0  d72665d4-7c9b-4747-94bd-a55583fc509e  110000      117273        0.0   \n",
       "1  d72665d4-7c9b-4747-94bd-a55583fc509e   84000       84035        0.0   \n",
       "2  d72665d4-7c9b-4747-94bd-a55583fc509e   40000       40889        0.0   \n",
       "3  d72665d4-7c9b-4747-94bd-a55583fc509e   18000       21887        0.0   \n",
       "4  d72665d4-7c9b-4747-94bd-a55583fc509e    2000        2583        0.0   \n",
       "\n",
       "   location  ticket_id_counts  move_no_in_sequence  \\\n",
       "0       NaN                 7                    0   \n",
       "1       NaN                 7                    1   \n",
       "2       NaN                 7                    2   \n",
       "3       NaN                 7                    3   \n",
       "4       NaN                 7                    4   \n",
       "\n",
       "                     priority_list  ingredient_list  \n",
       "0  20, 40, 100, 120, 130, 140, 150              NaN  \n",
       "1  20, 40, 100, 120, 130, 140, 150              NaN  \n",
       "2  20, 40, 100, 120, 130, 140, 150              NaN  \n",
       "3  20, 40, 100, 120, 130, 140, 150              NaN  \n",
       "4  20, 40, 100, 120, 130, 140, 150              NaN  \n",
       "\n",
       "[5 rows x 22 columns]"
      ]
     },
     "execution_count": 663,
     "metadata": {},
     "output_type": "execute_result"
    }
   ],
   "source": [
    "# glimpse of data1\n",
    "rawdata1.head()"
   ]
  },
  {
   "cell_type": "code",
   "execution_count": 664,
   "id": "de6be8b1-33e0-44dd-8a65-d8f7b5088bc0",
   "metadata": {},
   "outputs": [
    {
     "data": {
      "text/plain": [
       "(1462, 22)"
      ]
     },
     "execution_count": 664,
     "metadata": {},
     "output_type": "execute_result"
    }
   ],
   "source": [
    "rawdata1.shape"
   ]
  },
  {
   "cell_type": "markdown",
   "id": "e6a96beb-adfe-4adb-88b2-2683e63e34cc",
   "metadata": {},
   "source": [
    "# Data Cleaning\n"
   ]
  },
  {
   "cell_type": "markdown",
   "id": "a80c0d1b-7a86-459b-9b0b-6e8dce6162c7",
   "metadata": {},
   "source": [
    "## Ticket Items Manipulated Sheet\n",
    "\n",
    "1. removing 1 dimensional column\n",
    "2. reformat DateTime \n",
    "3. Checking for missing/duplicate data\n"
   ]
  },
  {
   "cell_type": "code",
   "execution_count": 665,
   "id": "da4d8b43-1904-453f-96d2-a1ad60691f92",
   "metadata": {},
   "outputs": [
    {
     "data": {
      "text/plain": [
       "id                     1236\n",
       "state                     1\n",
       "priority                 14\n",
       "created_at             1236\n",
       "updated_at             1236\n",
       "started_at             1236\n",
       "started_move           1236\n",
       "finished_move          1236\n",
       "started_dispense       1236\n",
       "finished_dispense      1236\n",
       "collected_at              1\n",
       "ticket_item_failed        1\n",
       "ingredient_id            17\n",
       "ticket_id               196\n",
       "mass                     25\n",
       "actual_mass            1228\n",
       "item_cost                 1\n",
       "location                  0\n",
       "ticket_id_counts          9\n",
       "move_no_in_sequence      10\n",
       "priority_list           110\n",
       "ingredient_list           0\n",
       "dtype: int64"
      ]
     },
     "execution_count": 665,
     "metadata": {},
     "output_type": "execute_result"
    }
   ],
   "source": [
    "# checking 1 dimensional data\n",
    "rawdata1.nunique()"
   ]
  },
  {
   "cell_type": "markdown",
   "id": "81182896-335b-4d58-8642-4a6b8494b1a7",
   "metadata": {},
   "source": [
    "the number of unique id is not equal to the total row observation, this can imply that there are missing/duplicate values\n",
    "also notice that some column has 0 and 1 value, this imply that the column is 1 dimension. on normal practice, these columns are remove from the data as it dont provide any information"
   ]
  },
  {
   "cell_type": "code",
   "execution_count": 666,
   "id": "505ad6dc-6adc-4a42-9349-73649c1eca92",
   "metadata": {},
   "outputs": [],
   "source": [
    "# changing the above to dataframe for indexing\n",
    "remove_cols = pd.DataFrame(rawdata1.nunique())"
   ]
  },
  {
   "cell_type": "code",
   "execution_count": 667,
   "id": "e77ebd7c-c082-4f86-9f10-4debb315b605",
   "metadata": {},
   "outputs": [],
   "source": [
    "# getting the required column name that needed to be removed by indexing the dataframe\n",
    "remove_cols = remove_cols[remove_cols.iloc[:,0] <= 1].index.tolist()"
   ]
  },
  {
   "cell_type": "code",
   "execution_count": 668,
   "id": "d1681218-dc5f-4ed3-ad90-a1158c3591aa",
   "metadata": {},
   "outputs": [],
   "source": [
    "# return all column to list\n",
    "cols = rawdata1.columns.tolist()\n",
    "# looping all the column removing column that has single values\n",
    "cols = [column for column in cols if column not in remove_cols]"
   ]
  },
  {
   "cell_type": "code",
   "execution_count": 669,
   "id": "fcc8eaaa-71f3-4f51-8854-1414aeb0e6d8",
   "metadata": {},
   "outputs": [],
   "source": [
    "# masking back to dataframe\n",
    "rawdata1 = rawdata1.loc[:, cols]"
   ]
  },
  {
   "cell_type": "code",
   "execution_count": 670,
   "id": "11115ba4-a30c-4aa7-8c1c-8d8a0df16e4a",
   "metadata": {},
   "outputs": [],
   "source": [
    "#return datatime columns \n",
    "datetime_col = rawdata1.iloc[:,[2,3,4,5,6,7,8]].columns.tolist()"
   ]
  },
  {
   "cell_type": "code",
   "execution_count": 671,
   "id": "a3948616-b646-4e83-b79f-e3bdc04518d4",
   "metadata": {},
   "outputs": [],
   "source": [
    "# Reformating the datetime column from string to DateTime Format\n",
    "for col in datetime_col:\n",
    "\n",
    "    # string indexing to cut off the decimals (assuming mili second is non-relevant)\n",
    "    rawdata1.loc[:,col] = rawdata1.loc[:,col].str[0:19]\n",
    "    # reformating datetime\n",
    "    rawdata1.loc[:,col] = pd.to_datetime(rawdata1.loc[:,col],format=\"%Y-%m-%d %H:%M:%S\")"
   ]
  },
  {
   "cell_type": "code",
   "execution_count": 672,
   "id": "87ff6bed-d8b8-4ed2-b281-8fec3a93a9c0",
   "metadata": {},
   "outputs": [
    {
     "data": {
      "text/plain": [
       "id                     1236\n",
       "priority                 14\n",
       "created_at              197\n",
       "updated_at              196\n",
       "started_at             1236\n",
       "started_move           1236\n",
       "finished_move          1236\n",
       "started_dispense       1236\n",
       "finished_dispense      1223\n",
       "ingredient_id            17\n",
       "ticket_id               196\n",
       "mass                     25\n",
       "actual_mass            1228\n",
       "ticket_id_counts          9\n",
       "move_no_in_sequence      10\n",
       "priority_list           110\n",
       "dtype: int64"
      ]
     },
     "execution_count": 672,
     "metadata": {},
     "output_type": "execute_result"
    }
   ],
   "source": [
    "#checking unique values for the columns\n",
    "rawdata1.nunique()"
   ]
  },
  {
   "cell_type": "code",
   "execution_count": 673,
   "id": "f29e2ace-0f54-4349-aa7a-e2ccd93c65ce",
   "metadata": {},
   "outputs": [
    {
     "data": {
      "text/plain": [
       "id                     0\n",
       "priority               0\n",
       "created_at             0\n",
       "updated_at             0\n",
       "started_at             0\n",
       "started_move           0\n",
       "finished_move          0\n",
       "started_dispense       0\n",
       "finished_dispense      0\n",
       "ingredient_id          0\n",
       "ticket_id              0\n",
       "mass                   0\n",
       "actual_mass            0\n",
       "ticket_id_counts       0\n",
       "move_no_in_sequence    0\n",
       "priority_list          0\n",
       "dtype: int64"
      ]
     },
     "execution_count": 673,
     "metadata": {},
     "output_type": "execute_result"
    }
   ],
   "source": [
    "# Checking missing values\n",
    "rawdata1.isna().sum()"
   ]
  },
  {
   "cell_type": "code",
   "execution_count": 674,
   "id": "fa1ca274-078b-4ea5-bc98-8e773471193d",
   "metadata": {},
   "outputs": [
    {
     "data": {
      "text/html": [
       "<div>\n",
       "<style scoped>\n",
       "    .dataframe tbody tr th:only-of-type {\n",
       "        vertical-align: middle;\n",
       "    }\n",
       "\n",
       "    .dataframe tbody tr th {\n",
       "        vertical-align: top;\n",
       "    }\n",
       "\n",
       "    .dataframe thead th {\n",
       "        text-align: right;\n",
       "    }\n",
       "</style>\n",
       "<table border=\"1\" class=\"dataframe\">\n",
       "  <thead>\n",
       "    <tr style=\"text-align: right;\">\n",
       "      <th></th>\n",
       "      <th>id</th>\n",
       "      <th>priority</th>\n",
       "      <th>created_at</th>\n",
       "      <th>updated_at</th>\n",
       "      <th>started_at</th>\n",
       "      <th>started_move</th>\n",
       "      <th>finished_move</th>\n",
       "      <th>started_dispense</th>\n",
       "      <th>finished_dispense</th>\n",
       "      <th>ingredient_id</th>\n",
       "      <th>ticket_id</th>\n",
       "      <th>mass</th>\n",
       "      <th>actual_mass</th>\n",
       "      <th>ticket_id_counts</th>\n",
       "      <th>move_no_in_sequence</th>\n",
       "      <th>priority_list</th>\n",
       "    </tr>\n",
       "  </thead>\n",
       "  <tbody>\n",
       "    <tr>\n",
       "      <th>1009</th>\n",
       "      <td>5d3a54bd-558f-42ee-ab15-3da6bb1071c4</td>\n",
       "      <td>10</td>\n",
       "      <td>2021-09-20 08:56:29</td>\n",
       "      <td>2021-09-20 11:06:18</td>\n",
       "      <td>2021-09-20 11:02:01</td>\n",
       "      <td>2021-09-20 11:02:01</td>\n",
       "      <td>2021-09-20 11:02:11</td>\n",
       "      <td>2021-09-20 11:02:11</td>\n",
       "      <td>2021-09-20 11:02:33</td>\n",
       "      <td>dd565e5e-13a7-4379-9fc8-b9221fae01cf</td>\n",
       "      <td>1c2462b6-44f6-47c1-9884-d53146b22f82</td>\n",
       "      <td>120000</td>\n",
       "      <td>128678</td>\n",
       "      <td>6</td>\n",
       "      <td>0</td>\n",
       "      <td>10, 50, 100, 120, 140, 150</td>\n",
       "    </tr>\n",
       "    <tr>\n",
       "      <th>1010</th>\n",
       "      <td>a5572cdc-f8e8-45f6-ad1b-8c172f321834</td>\n",
       "      <td>50</td>\n",
       "      <td>2021-09-20 08:56:29</td>\n",
       "      <td>2021-09-20 11:06:18</td>\n",
       "      <td>2021-09-20 11:02:37</td>\n",
       "      <td>2021-09-20 11:02:37</td>\n",
       "      <td>2021-09-20 11:02:46</td>\n",
       "      <td>2021-09-20 11:02:46</td>\n",
       "      <td>2021-09-20 11:03:14</td>\n",
       "      <td>ad97a5b1-2c4a-464a-8942-cecfddca6225</td>\n",
       "      <td>1c2462b6-44f6-47c1-9884-d53146b22f82</td>\n",
       "      <td>70000</td>\n",
       "      <td>74784</td>\n",
       "      <td>6</td>\n",
       "      <td>1</td>\n",
       "      <td>10, 50, 100, 120, 140, 150</td>\n",
       "    </tr>\n",
       "    <tr>\n",
       "      <th>1011</th>\n",
       "      <td>3fa94422-a031-4e11-b435-ecfa3d96d083</td>\n",
       "      <td>100</td>\n",
       "      <td>2021-09-20 08:56:29</td>\n",
       "      <td>2021-09-20 11:06:18</td>\n",
       "      <td>2021-09-20 11:03:15</td>\n",
       "      <td>2021-09-20 11:03:15</td>\n",
       "      <td>2021-09-20 11:03:24</td>\n",
       "      <td>2021-09-20 11:03:24</td>\n",
       "      <td>2021-09-20 11:03:34</td>\n",
       "      <td>87941a51-fd64-4171-95b9-db76bd4465f0</td>\n",
       "      <td>1c2462b6-44f6-47c1-9884-d53146b22f82</td>\n",
       "      <td>40000</td>\n",
       "      <td>48523</td>\n",
       "      <td>6</td>\n",
       "      <td>2</td>\n",
       "      <td>10, 50, 100, 120, 140, 150</td>\n",
       "    </tr>\n",
       "    <tr>\n",
       "      <th>1012</th>\n",
       "      <td>431be321-9d8b-4486-9466-ab199c9b8f0a</td>\n",
       "      <td>120</td>\n",
       "      <td>2021-09-20 08:56:29</td>\n",
       "      <td>2021-09-20 11:06:18</td>\n",
       "      <td>2021-09-20 11:03:36</td>\n",
       "      <td>2021-09-20 11:03:36</td>\n",
       "      <td>2021-09-20 11:03:46</td>\n",
       "      <td>2021-09-20 11:03:46</td>\n",
       "      <td>2021-09-20 11:03:58</td>\n",
       "      <td>4c02a8a1-7b6d-43ef-b639-03f0b7b7a4b1</td>\n",
       "      <td>1c2462b6-44f6-47c1-9884-d53146b22f82</td>\n",
       "      <td>15000</td>\n",
       "      <td>19579</td>\n",
       "      <td>6</td>\n",
       "      <td>3</td>\n",
       "      <td>10, 50, 100, 120, 140, 150</td>\n",
       "    </tr>\n",
       "    <tr>\n",
       "      <th>1013</th>\n",
       "      <td>bd99d7bd-c8de-4ee2-9e34-9c15a8852d79</td>\n",
       "      <td>140</td>\n",
       "      <td>2021-09-20 08:56:29</td>\n",
       "      <td>2021-09-20 11:06:18</td>\n",
       "      <td>2021-09-20 11:04:02</td>\n",
       "      <td>2021-09-20 11:04:02</td>\n",
       "      <td>2021-09-20 11:04:10</td>\n",
       "      <td>2021-09-20 11:04:10</td>\n",
       "      <td>2021-09-20 11:04:25</td>\n",
       "      <td>5345f17d-a10d-4bec-ae3c-f6cffcc539be</td>\n",
       "      <td>1c2462b6-44f6-47c1-9884-d53146b22f82</td>\n",
       "      <td>50000</td>\n",
       "      <td>54769</td>\n",
       "      <td>6</td>\n",
       "      <td>4</td>\n",
       "      <td>10, 50, 100, 120, 140, 150</td>\n",
       "    </tr>\n",
       "    <tr>\n",
       "      <th>...</th>\n",
       "      <td>...</td>\n",
       "      <td>...</td>\n",
       "      <td>...</td>\n",
       "      <td>...</td>\n",
       "      <td>...</td>\n",
       "      <td>...</td>\n",
       "      <td>...</td>\n",
       "      <td>...</td>\n",
       "      <td>...</td>\n",
       "      <td>...</td>\n",
       "      <td>...</td>\n",
       "      <td>...</td>\n",
       "      <td>...</td>\n",
       "      <td>...</td>\n",
       "      <td>...</td>\n",
       "      <td>...</td>\n",
       "    </tr>\n",
       "    <tr>\n",
       "      <th>1230</th>\n",
       "      <td>87737841-290f-473c-9087-ff6f35f134c3</td>\n",
       "      <td>100</td>\n",
       "      <td>2021-09-20 12:32:45</td>\n",
       "      <td>2021-09-20 12:38:57</td>\n",
       "      <td>2021-09-20 12:36:28</td>\n",
       "      <td>2021-09-20 12:36:28</td>\n",
       "      <td>2021-09-20 12:36:37</td>\n",
       "      <td>2021-09-20 12:36:37</td>\n",
       "      <td>2021-09-20 12:36:47</td>\n",
       "      <td>87941a51-fd64-4171-95b9-db76bd4465f0</td>\n",
       "      <td>2c200b77-17fe-4261-99e5-ec5b1fb9d0c6</td>\n",
       "      <td>40000</td>\n",
       "      <td>43625</td>\n",
       "      <td>7</td>\n",
       "      <td>2</td>\n",
       "      <td>10, 40, 100, 120, 130, 140, 150</td>\n",
       "    </tr>\n",
       "    <tr>\n",
       "      <th>1231</th>\n",
       "      <td>56a350b1-bdac-46ba-8c39-a13bc08956a8</td>\n",
       "      <td>120</td>\n",
       "      <td>2021-09-20 12:32:45</td>\n",
       "      <td>2021-09-20 12:38:57</td>\n",
       "      <td>2021-09-20 12:36:47</td>\n",
       "      <td>2021-09-20 12:36:47</td>\n",
       "      <td>2021-09-20 12:36:57</td>\n",
       "      <td>2021-09-20 12:36:57</td>\n",
       "      <td>2021-09-20 12:37:07</td>\n",
       "      <td>4c02a8a1-7b6d-43ef-b639-03f0b7b7a4b1</td>\n",
       "      <td>2c200b77-17fe-4261-99e5-ec5b1fb9d0c6</td>\n",
       "      <td>15000</td>\n",
       "      <td>16808</td>\n",
       "      <td>7</td>\n",
       "      <td>3</td>\n",
       "      <td>10, 40, 100, 120, 130, 140, 150</td>\n",
       "    </tr>\n",
       "    <tr>\n",
       "      <th>1232</th>\n",
       "      <td>6cb985e1-7ea5-4b81-9133-a0a73ad0e52c</td>\n",
       "      <td>130</td>\n",
       "      <td>2021-09-20 12:32:45</td>\n",
       "      <td>2021-09-20 12:38:57</td>\n",
       "      <td>2021-09-20 12:37:07</td>\n",
       "      <td>2021-09-20 12:37:07</td>\n",
       "      <td>2021-09-20 12:37:15</td>\n",
       "      <td>2021-09-20 12:37:15</td>\n",
       "      <td>2021-09-20 12:37:28</td>\n",
       "      <td>e1d855b2-f0b5-45d8-a1f8-a10ba21eed20</td>\n",
       "      <td>2c200b77-17fe-4261-99e5-ec5b1fb9d0c6</td>\n",
       "      <td>2000</td>\n",
       "      <td>1624</td>\n",
       "      <td>7</td>\n",
       "      <td>4</td>\n",
       "      <td>10, 40, 100, 120, 130, 140, 150</td>\n",
       "    </tr>\n",
       "    <tr>\n",
       "      <th>1233</th>\n",
       "      <td>7ad4f7dc-4ae4-46a8-b856-3edc44a0f3a1</td>\n",
       "      <td>140</td>\n",
       "      <td>2021-09-20 12:32:45</td>\n",
       "      <td>2021-09-20 12:38:57</td>\n",
       "      <td>2021-09-20 12:37:28</td>\n",
       "      <td>2021-09-20 12:37:28</td>\n",
       "      <td>2021-09-20 12:37:36</td>\n",
       "      <td>2021-09-20 12:37:36</td>\n",
       "      <td>2021-09-20 12:38:02</td>\n",
       "      <td>d540dc34-5e97-4032-9c6b-ec8e0bf63864</td>\n",
       "      <td>2c200b77-17fe-4261-99e5-ec5b1fb9d0c6</td>\n",
       "      <td>50000</td>\n",
       "      <td>52263</td>\n",
       "      <td>7</td>\n",
       "      <td>5</td>\n",
       "      <td>10, 40, 100, 120, 130, 140, 150</td>\n",
       "    </tr>\n",
       "    <tr>\n",
       "      <th>1234</th>\n",
       "      <td>9285fca0-0c27-4195-bba6-726de4b10a40</td>\n",
       "      <td>150</td>\n",
       "      <td>2021-09-20 12:32:45</td>\n",
       "      <td>2021-09-20 12:38:57</td>\n",
       "      <td>2021-09-20 12:38:02</td>\n",
       "      <td>2021-09-20 12:38:02</td>\n",
       "      <td>2021-09-20 12:38:12</td>\n",
       "      <td>2021-09-20 12:38:12</td>\n",
       "      <td>2021-09-20 12:38:32</td>\n",
       "      <td>bfe9f09a-4bfd-4504-a024-8b7cad14407d</td>\n",
       "      <td>2c200b77-17fe-4261-99e5-ec5b1fb9d0c6</td>\n",
       "      <td>7000</td>\n",
       "      <td>8469</td>\n",
       "      <td>7</td>\n",
       "      <td>6</td>\n",
       "      <td>10, 40, 100, 120, 130, 140, 150</td>\n",
       "    </tr>\n",
       "  </tbody>\n",
       "</table>\n",
       "<p>226 rows × 16 columns</p>\n",
       "</div>"
      ],
      "text/plain": [
       "                                        id  priority          created_at  \\\n",
       "1009  5d3a54bd-558f-42ee-ab15-3da6bb1071c4        10 2021-09-20 08:56:29   \n",
       "1010  a5572cdc-f8e8-45f6-ad1b-8c172f321834        50 2021-09-20 08:56:29   \n",
       "1011  3fa94422-a031-4e11-b435-ecfa3d96d083       100 2021-09-20 08:56:29   \n",
       "1012  431be321-9d8b-4486-9466-ab199c9b8f0a       120 2021-09-20 08:56:29   \n",
       "1013  bd99d7bd-c8de-4ee2-9e34-9c15a8852d79       140 2021-09-20 08:56:29   \n",
       "...                                    ...       ...                 ...   \n",
       "1230  87737841-290f-473c-9087-ff6f35f134c3       100 2021-09-20 12:32:45   \n",
       "1231  56a350b1-bdac-46ba-8c39-a13bc08956a8       120 2021-09-20 12:32:45   \n",
       "1232  6cb985e1-7ea5-4b81-9133-a0a73ad0e52c       130 2021-09-20 12:32:45   \n",
       "1233  7ad4f7dc-4ae4-46a8-b856-3edc44a0f3a1       140 2021-09-20 12:32:45   \n",
       "1234  9285fca0-0c27-4195-bba6-726de4b10a40       150 2021-09-20 12:32:45   \n",
       "\n",
       "              updated_at          started_at        started_move  \\\n",
       "1009 2021-09-20 11:06:18 2021-09-20 11:02:01 2021-09-20 11:02:01   \n",
       "1010 2021-09-20 11:06:18 2021-09-20 11:02:37 2021-09-20 11:02:37   \n",
       "1011 2021-09-20 11:06:18 2021-09-20 11:03:15 2021-09-20 11:03:15   \n",
       "1012 2021-09-20 11:06:18 2021-09-20 11:03:36 2021-09-20 11:03:36   \n",
       "1013 2021-09-20 11:06:18 2021-09-20 11:04:02 2021-09-20 11:04:02   \n",
       "...                  ...                 ...                 ...   \n",
       "1230 2021-09-20 12:38:57 2021-09-20 12:36:28 2021-09-20 12:36:28   \n",
       "1231 2021-09-20 12:38:57 2021-09-20 12:36:47 2021-09-20 12:36:47   \n",
       "1232 2021-09-20 12:38:57 2021-09-20 12:37:07 2021-09-20 12:37:07   \n",
       "1233 2021-09-20 12:38:57 2021-09-20 12:37:28 2021-09-20 12:37:28   \n",
       "1234 2021-09-20 12:38:57 2021-09-20 12:38:02 2021-09-20 12:38:02   \n",
       "\n",
       "           finished_move    started_dispense   finished_dispense  \\\n",
       "1009 2021-09-20 11:02:11 2021-09-20 11:02:11 2021-09-20 11:02:33   \n",
       "1010 2021-09-20 11:02:46 2021-09-20 11:02:46 2021-09-20 11:03:14   \n",
       "1011 2021-09-20 11:03:24 2021-09-20 11:03:24 2021-09-20 11:03:34   \n",
       "1012 2021-09-20 11:03:46 2021-09-20 11:03:46 2021-09-20 11:03:58   \n",
       "1013 2021-09-20 11:04:10 2021-09-20 11:04:10 2021-09-20 11:04:25   \n",
       "...                  ...                 ...                 ...   \n",
       "1230 2021-09-20 12:36:37 2021-09-20 12:36:37 2021-09-20 12:36:47   \n",
       "1231 2021-09-20 12:36:57 2021-09-20 12:36:57 2021-09-20 12:37:07   \n",
       "1232 2021-09-20 12:37:15 2021-09-20 12:37:15 2021-09-20 12:37:28   \n",
       "1233 2021-09-20 12:37:36 2021-09-20 12:37:36 2021-09-20 12:38:02   \n",
       "1234 2021-09-20 12:38:12 2021-09-20 12:38:12 2021-09-20 12:38:32   \n",
       "\n",
       "                             ingredient_id  \\\n",
       "1009  dd565e5e-13a7-4379-9fc8-b9221fae01cf   \n",
       "1010  ad97a5b1-2c4a-464a-8942-cecfddca6225   \n",
       "1011  87941a51-fd64-4171-95b9-db76bd4465f0   \n",
       "1012  4c02a8a1-7b6d-43ef-b639-03f0b7b7a4b1   \n",
       "1013  5345f17d-a10d-4bec-ae3c-f6cffcc539be   \n",
       "...                                    ...   \n",
       "1230  87941a51-fd64-4171-95b9-db76bd4465f0   \n",
       "1231  4c02a8a1-7b6d-43ef-b639-03f0b7b7a4b1   \n",
       "1232  e1d855b2-f0b5-45d8-a1f8-a10ba21eed20   \n",
       "1233  d540dc34-5e97-4032-9c6b-ec8e0bf63864   \n",
       "1234  bfe9f09a-4bfd-4504-a024-8b7cad14407d   \n",
       "\n",
       "                                 ticket_id    mass  actual_mass  \\\n",
       "1009  1c2462b6-44f6-47c1-9884-d53146b22f82  120000       128678   \n",
       "1010  1c2462b6-44f6-47c1-9884-d53146b22f82   70000        74784   \n",
       "1011  1c2462b6-44f6-47c1-9884-d53146b22f82   40000        48523   \n",
       "1012  1c2462b6-44f6-47c1-9884-d53146b22f82   15000        19579   \n",
       "1013  1c2462b6-44f6-47c1-9884-d53146b22f82   50000        54769   \n",
       "...                                    ...     ...          ...   \n",
       "1230  2c200b77-17fe-4261-99e5-ec5b1fb9d0c6   40000        43625   \n",
       "1231  2c200b77-17fe-4261-99e5-ec5b1fb9d0c6   15000        16808   \n",
       "1232  2c200b77-17fe-4261-99e5-ec5b1fb9d0c6    2000         1624   \n",
       "1233  2c200b77-17fe-4261-99e5-ec5b1fb9d0c6   50000        52263   \n",
       "1234  2c200b77-17fe-4261-99e5-ec5b1fb9d0c6    7000         8469   \n",
       "\n",
       "      ticket_id_counts  move_no_in_sequence                    priority_list  \n",
       "1009                 6                    0       10, 50, 100, 120, 140, 150  \n",
       "1010                 6                    1       10, 50, 100, 120, 140, 150  \n",
       "1011                 6                    2       10, 50, 100, 120, 140, 150  \n",
       "1012                 6                    3       10, 50, 100, 120, 140, 150  \n",
       "1013                 6                    4       10, 50, 100, 120, 140, 150  \n",
       "...                ...                  ...                              ...  \n",
       "1230                 7                    2  10, 40, 100, 120, 130, 140, 150  \n",
       "1231                 7                    3  10, 40, 100, 120, 130, 140, 150  \n",
       "1232                 7                    4  10, 40, 100, 120, 130, 140, 150  \n",
       "1233                 7                    5  10, 40, 100, 120, 130, 140, 150  \n",
       "1234                 7                    6  10, 40, 100, 120, 130, 140, 150  \n",
       "\n",
       "[226 rows x 16 columns]"
      ]
     },
     "execution_count": 674,
     "metadata": {},
     "output_type": "execute_result"
    }
   ],
   "source": [
    "# see duplicated rows\n",
    "rawdata1[rawdata1.duplicated()]"
   ]
  },
  {
   "cell_type": "code",
   "execution_count": 675,
   "id": "365577a2-145d-437b-8a2d-7c14a061646c",
   "metadata": {},
   "outputs": [],
   "source": [
    "# Dropping Duplicates keep the first \n",
    "rawdata1 = rawdata1.drop_duplicates()"
   ]
  },
  {
   "cell_type": "markdown",
   "id": "a807f42e-1bea-47a6-a903-d811f8ec0586",
   "metadata": {},
   "source": [
    "## Part 2: Describe the dataset / summarise your initial findings  \n",
    "\n",
    "Initial Overview of Dataset 1 (Tickets Item Manipulated)\n",
    "\n",
    "- data consist of 1,462 observations and 22 columns\n",
    "- Six columns have either singular or missing data values\n",
    "- 226 observations are duplicate values of all the columns\n",
    "- 0 missing values apart from the stated column\n",
    "\n",
    "Taking a few key assumptions\n",
    "Due to the presence of DateTime, the data can be classified as time-series data.\n",
    "226 duplicate observations were taken off and treated as recording errors due to duplicates in time-series data being non-relevant.\n",
    "Columns which has singular value / NaN have 0 variance. Normally these columns are taken out as it doesn't provide any information\n",
    "\n",
    "After cleaning the data using the above assumptions, the initial findings are as follows:\n",
    "\n",
    "1. ID - The primary key of the dataset. The total count of unique id is equivalent to the sum of rows of the cleaned datasets. Every action on the dispenser is defined uniquely by ID\n",
    "2. Priority - A subset of the priority list. Showed which part of the priority list are currently processed by the dispenser\n",
    "3. 7 DateTime columns = the DateTime information for which the ingredients are being processed. \n",
    "4. ingredient_id = ingredient information \n",
    "5. mass = total amount of the ingredient the robot required to dispense\n",
    "6. actual_mass = the actual amount the robot dispensed\n",
    "7. ticket_id_count = total number of ingredient (total number in priority list)\n",
    "8. move_no_in_seq = the order of ingredient the robot is currently executing\n",
    "9. priority_list = the combination of ingredient for a meal"
   ]
  },
  {
   "cell_type": "markdown",
   "id": "66c063c1-9983-4a7e-a47b-7ab4696b00be",
   "metadata": {},
   "source": [
    "\n",
    "\n",
    "## Part 3: Extract some basic stats about the meals (tickets) made. \n",
    "\n",
    "### Exploratory Data Analysis"
   ]
  },
  {
   "cell_type": "markdown",
   "id": "a09dbc55-9abb-48e1-9868-67b9cbef3b23",
   "metadata": {},
   "source": [
    "### How many meals were made per day?"
   ]
  },
  {
   "cell_type": "markdown",
   "id": "457ae518-633b-4a09-9b96-521ffe1e5042",
   "metadata": {},
   "source": [
    "as the data provides record for ingredients, we need an assumption to summarise each time the number of meal is produced\n",
    "\n",
    "The rule used <br>\n",
    "meal produced is counted everytime the row whereby :\n",
    "\n",
    "priority = last element of priority list"
   ]
  },
  {
   "cell_type": "code",
   "execution_count": 676,
   "id": "65da7321-87d3-44e5-93d1-f3064049343b",
   "metadata": {},
   "outputs": [],
   "source": [
    "# to print last element of priority list\n",
    "rawdata1['last_list'] = rawdata1.priority_list.map(lambda x:x.split(', ')[-1]).astype('int64')"
   ]
  },
  {
   "cell_type": "code",
   "execution_count": 677,
   "id": "dc993b4e-5b64-498c-86c1-db25bd419077",
   "metadata": {},
   "outputs": [],
   "source": [
    "# masking the data using above rule, resample to D and use count to arrive at total meals per day\n",
    "x = rawdata1[rawdata1.priority == rawdata1.last_list].set_index('started_at').resample('D').count().iloc[:,-1]"
   ]
  },
  {
   "cell_type": "code",
   "execution_count": 678,
   "id": "b119959d-d98a-4346-badc-ce3bb461f8ab",
   "metadata": {},
   "outputs": [],
   "source": [
    "# changing to dataframe, tidying up the table\n",
    "x = pd.DataFrame(x)\n",
    "\n",
    "x = x.rename(columns={\"last_list\": \"Total Meal\"})\n",
    "x.index = x.index.rename('Date')"
   ]
  },
  {
   "cell_type": "markdown",
   "id": "e7550150-367f-45ee-b948-e865120b3c82",
   "metadata": {},
   "source": [
    "Total Meal per Day is tabulate as follows"
   ]
  },
  {
   "cell_type": "code",
   "execution_count": 679,
   "id": "c279d60d-f726-4e49-ac2f-00d21f5d759d",
   "metadata": {},
   "outputs": [
    {
     "data": {
      "text/html": [
       "<div>\n",
       "<style scoped>\n",
       "    .dataframe tbody tr th:only-of-type {\n",
       "        vertical-align: middle;\n",
       "    }\n",
       "\n",
       "    .dataframe tbody tr th {\n",
       "        vertical-align: top;\n",
       "    }\n",
       "\n",
       "    .dataframe thead th {\n",
       "        text-align: right;\n",
       "    }\n",
       "</style>\n",
       "<table border=\"1\" class=\"dataframe\">\n",
       "  <thead>\n",
       "    <tr style=\"text-align: right;\">\n",
       "      <th></th>\n",
       "      <th>Total Meal</th>\n",
       "    </tr>\n",
       "    <tr>\n",
       "      <th>Date</th>\n",
       "      <th></th>\n",
       "    </tr>\n",
       "  </thead>\n",
       "  <tbody>\n",
       "    <tr>\n",
       "      <th>2021-09-20</th>\n",
       "      <td>35</td>\n",
       "    </tr>\n",
       "    <tr>\n",
       "      <th>2021-09-21</th>\n",
       "      <td>34</td>\n",
       "    </tr>\n",
       "    <tr>\n",
       "      <th>2021-09-22</th>\n",
       "      <td>35</td>\n",
       "    </tr>\n",
       "    <tr>\n",
       "      <th>2021-09-23</th>\n",
       "      <td>30</td>\n",
       "    </tr>\n",
       "    <tr>\n",
       "      <th>2021-09-24</th>\n",
       "      <td>16</td>\n",
       "    </tr>\n",
       "    <tr>\n",
       "      <th>2021-09-25</th>\n",
       "      <td>0</td>\n",
       "    </tr>\n",
       "    <tr>\n",
       "      <th>2021-09-26</th>\n",
       "      <td>0</td>\n",
       "    </tr>\n",
       "    <tr>\n",
       "      <th>2021-09-27</th>\n",
       "      <td>40</td>\n",
       "    </tr>\n",
       "  </tbody>\n",
       "</table>\n",
       "</div>"
      ],
      "text/plain": [
       "            Total Meal\n",
       "Date                  \n",
       "2021-09-20          35\n",
       "2021-09-21          34\n",
       "2021-09-22          35\n",
       "2021-09-23          30\n",
       "2021-09-24          16\n",
       "2021-09-25           0\n",
       "2021-09-26           0\n",
       "2021-09-27          40"
      ]
     },
     "execution_count": 679,
     "metadata": {},
     "output_type": "execute_result"
    }
   ],
   "source": [
    "x"
   ]
  },
  {
   "cell_type": "code",
   "execution_count": 680,
   "id": "5b5a893e-c71c-4b1b-8e59-6e01c9a6b792",
   "metadata": {},
   "outputs": [
    {
     "data": {
      "text/plain": [
       "<AxesSubplot:title={'center':'Total Meal Produce per Day'}, xlabel='Date'>"
      ]
     },
     "execution_count": 680,
     "metadata": {},
     "output_type": "execute_result"
    },
    {
     "data": {
      "image/png": "[encoded data removed]",
      "text/plain": [
       "<Figure size 432x288 with 1 Axes>"
      ]
     },
     "metadata": {
      "needs_background": "light"
     },
     "output_type": "display_data"
    }
   ],
   "source": [
    "x.plot.bar(title = 'Total Meal Produce per Day')"
   ]
  },
  {
   "cell_type": "markdown",
   "id": "1a4ee875-9173-4b41-be30-53d6047f2ad8",
   "metadata": {},
   "source": [
    "### How many overall?\n",
    "\n",
    "\n",
    "total of 190 meals are produce during 6 days"
   ]
  },
  {
   "cell_type": "code",
   "execution_count": 338,
   "id": "820c493b-2db3-45b8-8863-ddbe207784ec",
   "metadata": {},
   "outputs": [
    {
     "data": {
      "text/plain": [
       "Total Meal    190\n",
       "dtype: int64"
      ]
     },
     "execution_count": 338,
     "metadata": {},
     "output_type": "execute_result"
    }
   ],
   "source": [
    "x.sum()"
   ]
  },
  {
   "cell_type": "markdown",
   "id": "55ddafbb-b333-432c-a070-8496880af895",
   "metadata": {},
   "source": [
    "### What was the most popular ingredient?\n",
    "\n",
    "The ingredient can be represented by the ingredient ID\n",
    "hence the groupby method with sum formula can be used\n",
    "\n",
    "The result is shown as per below"
   ]
  },
  {
   "cell_type": "code",
   "execution_count": 545,
   "id": "eea1f7e8-0c1a-4856-ba85-6bd7f0285b55",
   "metadata": {},
   "outputs": [],
   "source": [
    "x2 = rawdata1.groupby('ingredient_id').sum('actual_mass').iloc[:,1].sort_values(ascending = False)\n",
    "x2 = pd.DataFrame(x2)\n"
   ]
  },
  {
   "cell_type": "code",
   "execution_count": 548,
   "id": "5aec723a-a859-42f8-80c3-dd2de2a2b116",
   "metadata": {},
   "outputs": [],
   "source": [
    "x2.rename(columns = {'mass' : 'Total_mass'}, inplace = True)"
   ]
  },
  {
   "cell_type": "code",
   "execution_count": 549,
   "id": "1bcefa48-31f2-40a2-bcce-5f58a2610a71",
   "metadata": {},
   "outputs": [
    {
     "data": {
      "text/html": [
       "<div>\n",
       "<style scoped>\n",
       "    .dataframe tbody tr th:only-of-type {\n",
       "        vertical-align: middle;\n",
       "    }\n",
       "\n",
       "    .dataframe tbody tr th {\n",
       "        vertical-align: top;\n",
       "    }\n",
       "\n",
       "    .dataframe thead th {\n",
       "        text-align: right;\n",
       "    }\n",
       "</style>\n",
       "<table border=\"1\" class=\"dataframe\">\n",
       "  <thead>\n",
       "    <tr style=\"text-align: right;\">\n",
       "      <th></th>\n",
       "      <th>Total_mass</th>\n",
       "    </tr>\n",
       "    <tr>\n",
       "      <th>ingredient_id</th>\n",
       "      <th></th>\n",
       "    </tr>\n",
       "  </thead>\n",
       "  <tbody>\n",
       "    <tr>\n",
       "      <th>dd565e5e-13a7-4379-9fc8-b9221fae01cf</th>\n",
       "      <td>22368000</td>\n",
       "    </tr>\n",
       "    <tr>\n",
       "      <th>ad97a5b1-2c4a-464a-8942-cecfddca6225</th>\n",
       "      <td>6888000</td>\n",
       "    </tr>\n",
       "    <tr>\n",
       "      <th>87941a51-fd64-4171-95b9-db76bd4465f0</th>\n",
       "      <td>6880000</td>\n",
       "    </tr>\n",
       "    <tr>\n",
       "      <th>f1f0a3a7-0f9f-4912-81bd-8e2b97f54b52</th>\n",
       "      <td>6160000</td>\n",
       "    </tr>\n",
       "    <tr>\n",
       "      <th>85e5083f-1736-4922-9bf7-1cf7da802d64</th>\n",
       "      <td>5376000</td>\n",
       "    </tr>\n",
       "    <tr>\n",
       "      <th>2d7f72ae-7a99-4538-b178-eb280b16ec25</th>\n",
       "      <td>5200000</td>\n",
       "    </tr>\n",
       "    <tr>\n",
       "      <th>173635e7-80be-452c-966b-8bccaa7cd016</th>\n",
       "      <td>2580000</td>\n",
       "    </tr>\n",
       "    <tr>\n",
       "      <th>d540dc34-5e97-4032-9c6b-ec8e0bf63864</th>\n",
       "      <td>2360000</td>\n",
       "    </tr>\n",
       "    <tr>\n",
       "      <th>e31c5ea0-00ba-4fb3-9bd6-185237ca1ceb</th>\n",
       "      <td>1990000</td>\n",
       "    </tr>\n",
       "    <tr>\n",
       "      <th>8bf1771c-a330-4410-a890-b7b7c7b621b3</th>\n",
       "      <td>1628000</td>\n",
       "    </tr>\n",
       "    <tr>\n",
       "      <th>8300fc64-5d3e-45cb-9f0d-9cfed6c635c7</th>\n",
       "      <td>1624000</td>\n",
       "    </tr>\n",
       "    <tr>\n",
       "      <th>4c02a8a1-7b6d-43ef-b639-03f0b7b7a4b1</th>\n",
       "      <td>1371000</td>\n",
       "    </tr>\n",
       "    <tr>\n",
       "      <th>5345f17d-a10d-4bec-ae3c-f6cffcc539be</th>\n",
       "      <td>1150000</td>\n",
       "    </tr>\n",
       "    <tr>\n",
       "      <th>bfe9f09a-4bfd-4504-a024-8b7cad14407d</th>\n",
       "      <td>943000</td>\n",
       "    </tr>\n",
       "    <tr>\n",
       "      <th>3182fea5-7eca-4d34-96e1-77abec8fc795</th>\n",
       "      <td>696000</td>\n",
       "    </tr>\n",
       "    <tr>\n",
       "      <th>7148f280-0f82-4195-9b40-c3358b7fff32</th>\n",
       "      <td>450000</td>\n",
       "    </tr>\n",
       "    <tr>\n",
       "      <th>e1d855b2-f0b5-45d8-a1f8-a10ba21eed20</th>\n",
       "      <td>182000</td>\n",
       "    </tr>\n",
       "  </tbody>\n",
       "</table>\n",
       "</div>"
      ],
      "text/plain": [
       "                                      Total_mass\n",
       "ingredient_id                                   \n",
       "dd565e5e-13a7-4379-9fc8-b9221fae01cf    22368000\n",
       "ad97a5b1-2c4a-464a-8942-cecfddca6225     6888000\n",
       "87941a51-fd64-4171-95b9-db76bd4465f0     6880000\n",
       "f1f0a3a7-0f9f-4912-81bd-8e2b97f54b52     6160000\n",
       "85e5083f-1736-4922-9bf7-1cf7da802d64     5376000\n",
       "2d7f72ae-7a99-4538-b178-eb280b16ec25     5200000\n",
       "173635e7-80be-452c-966b-8bccaa7cd016     2580000\n",
       "d540dc34-5e97-4032-9c6b-ec8e0bf63864     2360000\n",
       "e31c5ea0-00ba-4fb3-9bd6-185237ca1ceb     1990000\n",
       "8bf1771c-a330-4410-a890-b7b7c7b621b3     1628000\n",
       "8300fc64-5d3e-45cb-9f0d-9cfed6c635c7     1624000\n",
       "4c02a8a1-7b6d-43ef-b639-03f0b7b7a4b1     1371000\n",
       "5345f17d-a10d-4bec-ae3c-f6cffcc539be     1150000\n",
       "bfe9f09a-4bfd-4504-a024-8b7cad14407d      943000\n",
       "3182fea5-7eca-4d34-96e1-77abec8fc795      696000\n",
       "7148f280-0f82-4195-9b40-c3358b7fff32      450000\n",
       "e1d855b2-f0b5-45d8-a1f8-a10ba21eed20      182000"
      ]
     },
     "execution_count": 549,
     "metadata": {},
     "output_type": "execute_result"
    }
   ],
   "source": [
    "x2"
   ]
  },
  {
   "cell_type": "code",
   "execution_count": 550,
   "id": "e4a9937c-04b8-467f-812d-0a53ecfad57e",
   "metadata": {},
   "outputs": [
    {
     "data": {
      "text/plain": [
       "<AxesSubplot:ylabel='ingredient_id'>"
      ]
     },
     "execution_count": 550,
     "metadata": {},
     "output_type": "execute_result"
    },
    {
     "data": {
      "image/png": "[encoded data removed]",
      "text/plain": [
       "<Figure size 432x288 with 1 Axes>"
      ]
     },
     "metadata": {
      "needs_background": "light"
     },
     "output_type": "display_data"
    }
   ],
   "source": [
    "x2.plot.barh()"
   ]
  },
  {
   "cell_type": "markdown",
   "id": "6646e5fb-919c-442e-bb5d-af37460bd63c",
   "metadata": {},
   "source": [
    "### What was the most popular meal combination?\n",
    "\n",
    "The meal combination can be described using the groupby method on the priority list. however, this will produce a biased result as meals with more ingredients will give more counts\n",
    "\n",
    "to address this, the formula is \n",
    "1. groupby priority list\n",
    "2. use count as function\n",
    "3. divide total count with tickets id count which is total number of ingredient\n",
    "\n",
    "this will return the frequency of meal produced"
   ]
  },
  {
   "cell_type": "code",
   "execution_count": 681,
   "id": "ae96d85c-6e8e-4218-bf48-a4554cf24846",
   "metadata": {},
   "outputs": [],
   "source": [
    "# Return popular meal combination by using count\n",
    "x4 = rawdata1.groupby('priority_list').count().iloc[:,0]\n",
    "x4 = pd.DataFrame(x4).reset_index()"
   ]
  },
  {
   "cell_type": "code",
   "execution_count": 682,
   "id": "d29c51ac-9f3a-4214-8dcf-6a4267f471ff",
   "metadata": {},
   "outputs": [],
   "source": [
    "# create another column to return priority list as list\n",
    "x4['priority_list2'] = x4.priority_list.map(lambda x:x.split(', '))"
   ]
  },
  {
   "cell_type": "code",
   "execution_count": 683,
   "id": "5c9e533f-e8a5-4717-9143-94b8c5818eab",
   "metadata": {},
   "outputs": [],
   "source": [
    "# return the number of ingredient for each meal combination\n",
    "x4['len'] = x4.priority_list2.map(len)\n",
    "x4['total'] = x4['id']/x4['len']"
   ]
  },
  {
   "cell_type": "code",
   "execution_count": 684,
   "id": "51b8d5c8-4463-4ee3-a88e-8d109b30a1d2",
   "metadata": {},
   "outputs": [],
   "source": [
    "# tidying up the dataframe\n",
    "x4 = x4.set_index('priority_list')\n",
    "x4 = x4.iloc[:,3]\n",
    "x4 = pd.DataFrame(x4)"
   ]
  },
  {
   "cell_type": "markdown",
   "id": "5cff0ba3-d4cb-472d-8c1c-904f31625daa",
   "metadata": {},
   "source": [
    "\n",
    "### Results for most popular meal combination"
   ]
  },
  {
   "cell_type": "code",
   "execution_count": 685,
   "id": "ae5b72c5-cd73-4e58-b93f-df6eae8e219c",
   "metadata": {},
   "outputs": [
    {
     "data": {
      "text/html": [
       "<div>\n",
       "<style scoped>\n",
       "    .dataframe tbody tr th:only-of-type {\n",
       "        vertical-align: middle;\n",
       "    }\n",
       "\n",
       "    .dataframe tbody tr th {\n",
       "        vertical-align: top;\n",
       "    }\n",
       "\n",
       "    .dataframe thead th {\n",
       "        text-align: right;\n",
       "    }\n",
       "</style>\n",
       "<table border=\"1\" class=\"dataframe\">\n",
       "  <thead>\n",
       "    <tr style=\"text-align: right;\">\n",
       "      <th></th>\n",
       "      <th>total</th>\n",
       "    </tr>\n",
       "    <tr>\n",
       "      <th>priority_list</th>\n",
       "      <th></th>\n",
       "    </tr>\n",
       "  </thead>\n",
       "  <tbody>\n",
       "    <tr>\n",
       "      <th>10, 40, 90, 100, 130, 140, 150</th>\n",
       "      <td>13.857143</td>\n",
       "    </tr>\n",
       "    <tr>\n",
       "      <th>10, 50, 100, 120, 140, 150</th>\n",
       "      <td>12.833333</td>\n",
       "    </tr>\n",
       "    <tr>\n",
       "      <th>10, 50, 60, 90, 100, 110, 150</th>\n",
       "      <td>10.571429</td>\n",
       "    </tr>\n",
       "    <tr>\n",
       "      <th>10, 40, 100, 120, 130, 140</th>\n",
       "      <td>9.833333</td>\n",
       "    </tr>\n",
       "    <tr>\n",
       "      <th>10, 40, 100, 120, 130, 140, 150</th>\n",
       "      <td>8.000000</td>\n",
       "    </tr>\n",
       "    <tr>\n",
       "      <th>...</th>\n",
       "      <td>...</td>\n",
       "    </tr>\n",
       "    <tr>\n",
       "      <th>10, 50, 100, 110, 120, 140</th>\n",
       "      <td>0.833333</td>\n",
       "    </tr>\n",
       "    <tr>\n",
       "      <th>10, 50, 70, 120, 150</th>\n",
       "      <td>0.800000</td>\n",
       "    </tr>\n",
       "    <tr>\n",
       "      <th>10, 40, 60, 90, 150</th>\n",
       "      <td>0.800000</td>\n",
       "    </tr>\n",
       "    <tr>\n",
       "      <th>10, 40</th>\n",
       "      <td>0.500000</td>\n",
       "    </tr>\n",
       "    <tr>\n",
       "      <th>10, 30</th>\n",
       "      <td>0.500000</td>\n",
       "    </tr>\n",
       "  </tbody>\n",
       "</table>\n",
       "<p>110 rows × 1 columns</p>\n",
       "</div>"
      ],
      "text/plain": [
       "                                     total\n",
       "priority_list                             \n",
       "10, 40, 90, 100, 130, 140, 150   13.857143\n",
       "10, 50, 100, 120, 140, 150       12.833333\n",
       "10, 50, 60, 90, 100, 110, 150    10.571429\n",
       "10, 40, 100, 120, 130, 140        9.833333\n",
       "10, 40, 100, 120, 130, 140, 150   8.000000\n",
       "...                                    ...\n",
       "10, 50, 100, 110, 120, 140        0.833333\n",
       "10, 50, 70, 120, 150              0.800000\n",
       "10, 40, 60, 90, 150               0.800000\n",
       "10, 40                            0.500000\n",
       "10, 30                            0.500000\n",
       "\n",
       "[110 rows x 1 columns]"
      ]
     },
     "execution_count": 685,
     "metadata": {},
     "output_type": "execute_result"
    }
   ],
   "source": [
    "x4.sort_values('total', ascending = False)"
   ]
  },
  {
   "cell_type": "markdown",
   "id": "b378ec57-338a-4182-a707-527d171b659e",
   "metadata": {},
   "source": [
    "### How long did each meal take to make on average?\n",
    "\n",
    "the time taken for each meal is calculated by taking started_at column on the first row and finished_dispensed last row for each unique value in ticket_id"
   ]
  },
  {
   "cell_type": "code",
   "execution_count": 688,
   "id": "b777235a-f6af-4042-a952-dd838b38752b",
   "metadata": {},
   "outputs": [],
   "source": [
    "# return list of meal\n",
    "meals = rawdata1.ticket_id.unique()"
   ]
  },
  {
   "cell_type": "code",
   "execution_count": 700,
   "id": "7b0b30be-aa41-4ba1-963d-59e49d1166eb",
   "metadata": {},
   "outputs": [
    {
     "name": "stderr",
     "output_type": "stream",
     "text": [
      "100%|██████████████████████████████████████████████████████████████████████████████| 196/196 [00:00<00:00, 2062.70it/s]\n"
     ]
    }
   ],
   "source": [
    "# filtering the dataset using each unique ticket_id, taking each datapoints mentioned using above method\n",
    "start = []\n",
    "end = []\n",
    "num_ing = []\n",
    "\n",
    "for meal in tqdm(meals):    \n",
    "    meal_df = rawdata1.loc[rawdata1.ticket_id == meal]\n",
    "\n",
    "    \n",
    "    temp_start = meal_df.iloc[0,4]\n",
    "    \n",
    "    temp_end = meal_df.iloc[-1,8]\n",
    "    \n",
    "    temp_len = len(meal_df)\n",
    "  \n",
    "\n",
    "    start.append(temp_start)\n",
    "    end.append(temp_end)\n",
    "    num_ing.append(temp_len)\n"
   ]
  },
  {
   "cell_type": "code",
   "execution_count": 701,
   "id": "48870bde-cfa4-4685-aeca-aa72fb67578c",
   "metadata": {},
   "outputs": [],
   "source": [
    "meals_df = pd.DataFrame({\n",
    "    'meal' : meals,\n",
    "    'start_time' : start,\n",
    "    'end_time' : end,\n",
    "    'number_ingred' : num_ing\n",
    "})"
   ]
  },
  {
   "cell_type": "code",
   "execution_count": 702,
   "id": "e8e609b4-920d-4a53-bc0c-3ab7e7aba3a2",
   "metadata": {},
   "outputs": [],
   "source": [
    "meals_df['prep_time'] = meals_df['end_time'] - meals_df['start_time']"
   ]
  },
  {
   "cell_type": "markdown",
   "id": "62d3a301-fc9e-4e44-92b0-0d0b5b2fe33d",
   "metadata": {},
   "source": [
    "### Average time taken for each meal to be prepared is around 4 mins and 35 seconds"
   ]
  },
  {
   "cell_type": "code",
   "execution_count": 703,
   "id": "48f20b1f-fc52-4eb1-ba87-c4f5eacc68e4",
   "metadata": {},
   "outputs": [
    {
     "data": {
      "text/plain": [
       "Timedelta('0 days 00:04:35.505102040')"
      ]
     },
     "execution_count": 703,
     "metadata": {},
     "output_type": "execute_result"
    }
   ],
   "source": [
    "meals_df.prep_time.mean()"
   ]
  },
  {
   "cell_type": "markdown",
   "id": "1b0fb30a-d09d-48e8-a785-3a372912bccf",
   "metadata": {},
   "source": [
    "### Detail for time taken for each meal is presented in the table below"
   ]
  },
  {
   "cell_type": "code",
   "execution_count": 704,
   "id": "fdebbd6f-b81b-491c-a2c1-4c4db434ea65",
   "metadata": {},
   "outputs": [
    {
     "data": {
      "text/html": [
       "<div>\n",
       "<style scoped>\n",
       "    .dataframe tbody tr th:only-of-type {\n",
       "        vertical-align: middle;\n",
       "    }\n",
       "\n",
       "    .dataframe tbody tr th {\n",
       "        vertical-align: top;\n",
       "    }\n",
       "\n",
       "    .dataframe thead th {\n",
       "        text-align: right;\n",
       "    }\n",
       "</style>\n",
       "<table border=\"1\" class=\"dataframe\">\n",
       "  <thead>\n",
       "    <tr style=\"text-align: right;\">\n",
       "      <th></th>\n",
       "      <th>meal</th>\n",
       "      <th>start_time</th>\n",
       "      <th>end_time</th>\n",
       "      <th>number_ingred</th>\n",
       "      <th>prep_time</th>\n",
       "    </tr>\n",
       "  </thead>\n",
       "  <tbody>\n",
       "    <tr>\n",
       "      <th>0</th>\n",
       "      <td>d72665d4-7c9b-4747-94bd-a55583fc509e</td>\n",
       "      <td>2021-09-27 10:58:00</td>\n",
       "      <td>2021-09-27 11:02:02</td>\n",
       "      <td>7</td>\n",
       "      <td>0 days 00:04:02</td>\n",
       "    </tr>\n",
       "    <tr>\n",
       "      <th>1</th>\n",
       "      <td>02e12cd3-b8bb-48c6-bc41-0f1f81bea9ee</td>\n",
       "      <td>2021-09-27 11:00:19</td>\n",
       "      <td>2021-09-27 11:03:52</td>\n",
       "      <td>7</td>\n",
       "      <td>0 days 00:03:33</td>\n",
       "    </tr>\n",
       "    <tr>\n",
       "      <th>2</th>\n",
       "      <td>9f554000-8407-4564-8085-27f66c0ec7d7</td>\n",
       "      <td>2021-09-27 11:02:13</td>\n",
       "      <td>2021-09-27 11:08:18</td>\n",
       "      <td>9</td>\n",
       "      <td>0 days 00:06:05</td>\n",
       "    </tr>\n",
       "    <tr>\n",
       "      <th>3</th>\n",
       "      <td>3d08d039-c5c9-4c44-8fe7-cbd2fb2f6175</td>\n",
       "      <td>2021-09-27 12:12:07</td>\n",
       "      <td>2021-09-27 12:21:30</td>\n",
       "      <td>7</td>\n",
       "      <td>0 days 00:09:23</td>\n",
       "    </tr>\n",
       "    <tr>\n",
       "      <th>4</th>\n",
       "      <td>516fabb8-2a40-41b8-8bc3-12dd39c1f789</td>\n",
       "      <td>2021-09-27 11:18:41</td>\n",
       "      <td>2021-09-27 11:24:31</td>\n",
       "      <td>8</td>\n",
       "      <td>0 days 00:05:50</td>\n",
       "    </tr>\n",
       "    <tr>\n",
       "      <th>...</th>\n",
       "      <td>...</td>\n",
       "      <td>...</td>\n",
       "      <td>...</td>\n",
       "      <td>...</td>\n",
       "      <td>...</td>\n",
       "    </tr>\n",
       "    <tr>\n",
       "      <th>191</th>\n",
       "      <td>8fd81df3-42b2-40b8-8504-54dda63bfee7</td>\n",
       "      <td>2021-09-22 12:21:15</td>\n",
       "      <td>2021-09-22 12:24:20</td>\n",
       "      <td>6</td>\n",
       "      <td>0 days 00:03:05</td>\n",
       "    </tr>\n",
       "    <tr>\n",
       "      <th>192</th>\n",
       "      <td>d6e8ba30-d461-4515-b22f-f29ff98b7d83</td>\n",
       "      <td>2021-09-22 12:41:01</td>\n",
       "      <td>2021-09-22 12:48:14</td>\n",
       "      <td>7</td>\n",
       "      <td>0 days 00:07:13</td>\n",
       "    </tr>\n",
       "    <tr>\n",
       "      <th>193</th>\n",
       "      <td>c3d30424-4c6a-4c57-b681-1e948a38b684</td>\n",
       "      <td>2021-09-22 12:24:05</td>\n",
       "      <td>2021-09-22 12:28:39</td>\n",
       "      <td>9</td>\n",
       "      <td>0 days 00:04:34</td>\n",
       "    </tr>\n",
       "    <tr>\n",
       "      <th>194</th>\n",
       "      <td>30b2c09c-7bff-4930-90b4-5297b81155dc</td>\n",
       "      <td>2021-09-22 12:38:25</td>\n",
       "      <td>2021-09-22 12:45:33</td>\n",
       "      <td>7</td>\n",
       "      <td>0 days 00:07:08</td>\n",
       "    </tr>\n",
       "    <tr>\n",
       "      <th>195</th>\n",
       "      <td>098de96b-8dea-459f-a838-dda7211527dd</td>\n",
       "      <td>2021-09-22 12:41:52</td>\n",
       "      <td>2021-09-22 12:43:34</td>\n",
       "      <td>2</td>\n",
       "      <td>0 days 00:01:42</td>\n",
       "    </tr>\n",
       "  </tbody>\n",
       "</table>\n",
       "<p>196 rows × 5 columns</p>\n",
       "</div>"
      ],
      "text/plain": [
       "                                     meal          start_time  \\\n",
       "0    d72665d4-7c9b-4747-94bd-a55583fc509e 2021-09-27 10:58:00   \n",
       "1    02e12cd3-b8bb-48c6-bc41-0f1f81bea9ee 2021-09-27 11:00:19   \n",
       "2    9f554000-8407-4564-8085-27f66c0ec7d7 2021-09-27 11:02:13   \n",
       "3    3d08d039-c5c9-4c44-8fe7-cbd2fb2f6175 2021-09-27 12:12:07   \n",
       "4    516fabb8-2a40-41b8-8bc3-12dd39c1f789 2021-09-27 11:18:41   \n",
       "..                                    ...                 ...   \n",
       "191  8fd81df3-42b2-40b8-8504-54dda63bfee7 2021-09-22 12:21:15   \n",
       "192  d6e8ba30-d461-4515-b22f-f29ff98b7d83 2021-09-22 12:41:01   \n",
       "193  c3d30424-4c6a-4c57-b681-1e948a38b684 2021-09-22 12:24:05   \n",
       "194  30b2c09c-7bff-4930-90b4-5297b81155dc 2021-09-22 12:38:25   \n",
       "195  098de96b-8dea-459f-a838-dda7211527dd 2021-09-22 12:41:52   \n",
       "\n",
       "               end_time  number_ingred       prep_time  \n",
       "0   2021-09-27 11:02:02              7 0 days 00:04:02  \n",
       "1   2021-09-27 11:03:52              7 0 days 00:03:33  \n",
       "2   2021-09-27 11:08:18              9 0 days 00:06:05  \n",
       "3   2021-09-27 12:21:30              7 0 days 00:09:23  \n",
       "4   2021-09-27 11:24:31              8 0 days 00:05:50  \n",
       "..                  ...            ...             ...  \n",
       "191 2021-09-22 12:24:20              6 0 days 00:03:05  \n",
       "192 2021-09-22 12:48:14              7 0 days 00:07:13  \n",
       "193 2021-09-22 12:28:39              9 0 days 00:04:34  \n",
       "194 2021-09-22 12:45:33              7 0 days 00:07:08  \n",
       "195 2021-09-22 12:43:34              2 0 days 00:01:42  \n",
       "\n",
       "[196 rows x 5 columns]"
      ]
     },
     "execution_count": 704,
     "metadata": {},
     "output_type": "execute_result"
    }
   ],
   "source": [
    "meals_df"
   ]
  },
  {
   "cell_type": "markdown",
   "id": "422ab8b2-5c53-4a47-b2d9-37cb51a78c29",
   "metadata": {},
   "source": [
    "### Is there any relationship between ingredient and meal prep time ?\n",
    "\n"
   ]
  },
  {
   "cell_type": "code",
   "execution_count": 705,
   "id": "7ccd524f-5804-46e8-89bd-f535b5235daf",
   "metadata": {},
   "outputs": [],
   "source": [
    "#converting prep time to seconds\n",
    "meals_df['prep_time_sec'] = meals_df.prep_time.dt.total_seconds()\n"
   ]
  },
  {
   "cell_type": "code",
   "execution_count": 706,
   "id": "b9007fe4-73fb-4f5d-9d4f-58a733f7e358",
   "metadata": {},
   "outputs": [],
   "source": [
    "meals_df = meals_df.set_index('meal')"
   ]
  },
  {
   "cell_type": "markdown",
   "id": "d54c34ff-8b07-49a0-915e-610705bbfe5f",
   "metadata": {},
   "source": [
    "theres weak to moderate positive correlation between number of ingredients and preparation time"
   ]
  },
  {
   "cell_type": "code",
   "execution_count": 707,
   "id": "4a353aa1-94f9-440f-965f-6c71412740c9",
   "metadata": {},
   "outputs": [
    {
     "data": {
      "text/html": [
       "<div>\n",
       "<style scoped>\n",
       "    .dataframe tbody tr th:only-of-type {\n",
       "        vertical-align: middle;\n",
       "    }\n",
       "\n",
       "    .dataframe tbody tr th {\n",
       "        vertical-align: top;\n",
       "    }\n",
       "\n",
       "    .dataframe thead th {\n",
       "        text-align: right;\n",
       "    }\n",
       "</style>\n",
       "<table border=\"1\" class=\"dataframe\">\n",
       "  <thead>\n",
       "    <tr style=\"text-align: right;\">\n",
       "      <th></th>\n",
       "      <th>number_ingred</th>\n",
       "      <th>prep_time_sec</th>\n",
       "    </tr>\n",
       "  </thead>\n",
       "  <tbody>\n",
       "    <tr>\n",
       "      <th>number_ingred</th>\n",
       "      <td>1.000000</td>\n",
       "      <td>0.389385</td>\n",
       "    </tr>\n",
       "    <tr>\n",
       "      <th>prep_time_sec</th>\n",
       "      <td>0.389385</td>\n",
       "      <td>1.000000</td>\n",
       "    </tr>\n",
       "  </tbody>\n",
       "</table>\n",
       "</div>"
      ],
      "text/plain": [
       "               number_ingred  prep_time_sec\n",
       "number_ingred       1.000000       0.389385\n",
       "prep_time_sec       0.389385       1.000000"
      ]
     },
     "execution_count": 707,
     "metadata": {},
     "output_type": "execute_result"
    }
   ],
   "source": [
    "meals_df.loc[:,['number_ingred','prep_time_sec']].corr()"
   ]
  },
  {
   "cell_type": "markdown",
   "id": "80a24b3b-8840-4eb1-a9dc-527748e294e1",
   "metadata": {},
   "source": [
    "### What about meal popularity and prep time? \n",
    " first we need an information about meal popularity\n",
    " this can be calculated using groupby with count method on ticket id then divided by total number of ingredient"
   ]
  },
  {
   "cell_type": "code",
   "execution_count": 709,
   "id": "b3f5afe3-363e-41b5-9f72-d88fa126075c",
   "metadata": {},
   "outputs": [],
   "source": [
    "# getting the meal popularity by finding how many of the meals are produced\n",
    "x6 = rawdata1.groupby('ticket_id').count().iloc[:,0]\n",
    "x6= pd.DataFrame(x6)\n",
    "x6.reset_index(inplace = True)\n",
    "x6 = x6.rename(columns = {'ticket_id' : 'meal', 'id':'total_count'})"
   ]
  },
  {
   "cell_type": "code",
   "execution_count": 710,
   "id": "8ef23d89-0867-400c-80b1-19b4680a5750",
   "metadata": {},
   "outputs": [],
   "source": [
    "# setting index to ticket_id = meal\n",
    "x6 = x6.set_index('meal')"
   ]
  },
  {
   "cell_type": "code",
   "execution_count": 711,
   "id": "739de666-5573-48c4-9157-4d89f262f984",
   "metadata": {},
   "outputs": [],
   "source": [
    "# joining meal with the previous meals_df dataframe\n",
    "meals_df = meals_df.join(x6)"
   ]
  },
  {
   "cell_type": "code",
   "execution_count": 712,
   "id": "09e61cfa-55da-4482-b89c-a27279f0005e",
   "metadata": {},
   "outputs": [],
   "source": [
    "# total meal produce is a function of meal counts divided by total ingredient\n",
    "meals_df['total_meal_produce'] = meals_df['total_count'] / meals_df['number_ingred']"
   ]
  },
  {
   "cell_type": "code",
   "execution_count": 713,
   "id": "4a8f6250-52e1-4753-b5fc-758c63fa7021",
   "metadata": {},
   "outputs": [
    {
     "data": {
      "text/html": [
       "<div>\n",
       "<style scoped>\n",
       "    .dataframe tbody tr th:only-of-type {\n",
       "        vertical-align: middle;\n",
       "    }\n",
       "\n",
       "    .dataframe tbody tr th {\n",
       "        vertical-align: top;\n",
       "    }\n",
       "\n",
       "    .dataframe thead th {\n",
       "        text-align: right;\n",
       "    }\n",
       "</style>\n",
       "<table border=\"1\" class=\"dataframe\">\n",
       "  <thead>\n",
       "    <tr style=\"text-align: right;\">\n",
       "      <th></th>\n",
       "      <th>total_meal_produce</th>\n",
       "      <th>prep_time_sec</th>\n",
       "    </tr>\n",
       "  </thead>\n",
       "  <tbody>\n",
       "    <tr>\n",
       "      <th>total_meal_produce</th>\n",
       "      <td>NaN</td>\n",
       "      <td>NaN</td>\n",
       "    </tr>\n",
       "    <tr>\n",
       "      <th>prep_time_sec</th>\n",
       "      <td>NaN</td>\n",
       "      <td>1.0</td>\n",
       "    </tr>\n",
       "  </tbody>\n",
       "</table>\n",
       "</div>"
      ],
      "text/plain": [
       "                    total_meal_produce  prep_time_sec\n",
       "total_meal_produce                 NaN            NaN\n",
       "prep_time_sec                      NaN            1.0"
      ]
     },
     "execution_count": 713,
     "metadata": {},
     "output_type": "execute_result"
    }
   ],
   "source": [
    "# no correlation can be calculated as all type of meal only been produce once in this dataframe\n",
    "meals_df.loc[:,['total_meal_produce','prep_time_sec']].corr()"
   ]
  },
  {
   "cell_type": "markdown",
   "id": "47c0a742-a38e-4d21-aaef-452ecf1b454a",
   "metadata": {},
   "source": [
    "by using the assumption that ticket_id is equivalent to the meal, the data showed that all the meal has been produced only once. <br>\n",
    "hence no correlation can be calculated"
   ]
  },
  {
   "cell_type": "code",
   "execution_count": 714,
   "id": "f0067877-692e-4f0c-8040-7b7cefbf13be",
   "metadata": {},
   "outputs": [
    {
     "data": {
      "text/html": [
       "<div>\n",
       "<style scoped>\n",
       "    .dataframe tbody tr th:only-of-type {\n",
       "        vertical-align: middle;\n",
       "    }\n",
       "\n",
       "    .dataframe tbody tr th {\n",
       "        vertical-align: top;\n",
       "    }\n",
       "\n",
       "    .dataframe thead th {\n",
       "        text-align: right;\n",
       "    }\n",
       "</style>\n",
       "<table border=\"1\" class=\"dataframe\">\n",
       "  <thead>\n",
       "    <tr style=\"text-align: right;\">\n",
       "      <th></th>\n",
       "      <th>start_time</th>\n",
       "      <th>end_time</th>\n",
       "      <th>number_ingred</th>\n",
       "      <th>prep_time</th>\n",
       "      <th>prep_time_sec</th>\n",
       "      <th>total_count</th>\n",
       "      <th>total_meal_produce</th>\n",
       "    </tr>\n",
       "    <tr>\n",
       "      <th>meal</th>\n",
       "      <th></th>\n",
       "      <th></th>\n",
       "      <th></th>\n",
       "      <th></th>\n",
       "      <th></th>\n",
       "      <th></th>\n",
       "      <th></th>\n",
       "    </tr>\n",
       "  </thead>\n",
       "  <tbody>\n",
       "    <tr>\n",
       "      <th>d72665d4-7c9b-4747-94bd-a55583fc509e</th>\n",
       "      <td>2021-09-27 10:58:00</td>\n",
       "      <td>2021-09-27 11:02:02</td>\n",
       "      <td>7</td>\n",
       "      <td>0 days 00:04:02</td>\n",
       "      <td>242.0</td>\n",
       "      <td>7</td>\n",
       "      <td>1.0</td>\n",
       "    </tr>\n",
       "    <tr>\n",
       "      <th>02e12cd3-b8bb-48c6-bc41-0f1f81bea9ee</th>\n",
       "      <td>2021-09-27 11:00:19</td>\n",
       "      <td>2021-09-27 11:03:52</td>\n",
       "      <td>7</td>\n",
       "      <td>0 days 00:03:33</td>\n",
       "      <td>213.0</td>\n",
       "      <td>7</td>\n",
       "      <td>1.0</td>\n",
       "    </tr>\n",
       "    <tr>\n",
       "      <th>9f554000-8407-4564-8085-27f66c0ec7d7</th>\n",
       "      <td>2021-09-27 11:02:13</td>\n",
       "      <td>2021-09-27 11:08:18</td>\n",
       "      <td>9</td>\n",
       "      <td>0 days 00:06:05</td>\n",
       "      <td>365.0</td>\n",
       "      <td>9</td>\n",
       "      <td>1.0</td>\n",
       "    </tr>\n",
       "    <tr>\n",
       "      <th>3d08d039-c5c9-4c44-8fe7-cbd2fb2f6175</th>\n",
       "      <td>2021-09-27 12:12:07</td>\n",
       "      <td>2021-09-27 12:21:30</td>\n",
       "      <td>7</td>\n",
       "      <td>0 days 00:09:23</td>\n",
       "      <td>563.0</td>\n",
       "      <td>7</td>\n",
       "      <td>1.0</td>\n",
       "    </tr>\n",
       "    <tr>\n",
       "      <th>516fabb8-2a40-41b8-8bc3-12dd39c1f789</th>\n",
       "      <td>2021-09-27 11:18:41</td>\n",
       "      <td>2021-09-27 11:24:31</td>\n",
       "      <td>8</td>\n",
       "      <td>0 days 00:05:50</td>\n",
       "      <td>350.0</td>\n",
       "      <td>8</td>\n",
       "      <td>1.0</td>\n",
       "    </tr>\n",
       "    <tr>\n",
       "      <th>...</th>\n",
       "      <td>...</td>\n",
       "      <td>...</td>\n",
       "      <td>...</td>\n",
       "      <td>...</td>\n",
       "      <td>...</td>\n",
       "      <td>...</td>\n",
       "      <td>...</td>\n",
       "    </tr>\n",
       "    <tr>\n",
       "      <th>8fd81df3-42b2-40b8-8504-54dda63bfee7</th>\n",
       "      <td>2021-09-22 12:21:15</td>\n",
       "      <td>2021-09-22 12:24:20</td>\n",
       "      <td>6</td>\n",
       "      <td>0 days 00:03:05</td>\n",
       "      <td>185.0</td>\n",
       "      <td>6</td>\n",
       "      <td>1.0</td>\n",
       "    </tr>\n",
       "    <tr>\n",
       "      <th>d6e8ba30-d461-4515-b22f-f29ff98b7d83</th>\n",
       "      <td>2021-09-22 12:41:01</td>\n",
       "      <td>2021-09-22 12:48:14</td>\n",
       "      <td>7</td>\n",
       "      <td>0 days 00:07:13</td>\n",
       "      <td>433.0</td>\n",
       "      <td>7</td>\n",
       "      <td>1.0</td>\n",
       "    </tr>\n",
       "    <tr>\n",
       "      <th>c3d30424-4c6a-4c57-b681-1e948a38b684</th>\n",
       "      <td>2021-09-22 12:24:05</td>\n",
       "      <td>2021-09-22 12:28:39</td>\n",
       "      <td>9</td>\n",
       "      <td>0 days 00:04:34</td>\n",
       "      <td>274.0</td>\n",
       "      <td>9</td>\n",
       "      <td>1.0</td>\n",
       "    </tr>\n",
       "    <tr>\n",
       "      <th>30b2c09c-7bff-4930-90b4-5297b81155dc</th>\n",
       "      <td>2021-09-22 12:38:25</td>\n",
       "      <td>2021-09-22 12:45:33</td>\n",
       "      <td>7</td>\n",
       "      <td>0 days 00:07:08</td>\n",
       "      <td>428.0</td>\n",
       "      <td>7</td>\n",
       "      <td>1.0</td>\n",
       "    </tr>\n",
       "    <tr>\n",
       "      <th>098de96b-8dea-459f-a838-dda7211527dd</th>\n",
       "      <td>2021-09-22 12:41:52</td>\n",
       "      <td>2021-09-22 12:43:34</td>\n",
       "      <td>2</td>\n",
       "      <td>0 days 00:01:42</td>\n",
       "      <td>102.0</td>\n",
       "      <td>2</td>\n",
       "      <td>1.0</td>\n",
       "    </tr>\n",
       "  </tbody>\n",
       "</table>\n",
       "<p>196 rows × 7 columns</p>\n",
       "</div>"
      ],
      "text/plain": [
       "                                              start_time            end_time  \\\n",
       "meal                                                                           \n",
       "d72665d4-7c9b-4747-94bd-a55583fc509e 2021-09-27 10:58:00 2021-09-27 11:02:02   \n",
       "02e12cd3-b8bb-48c6-bc41-0f1f81bea9ee 2021-09-27 11:00:19 2021-09-27 11:03:52   \n",
       "9f554000-8407-4564-8085-27f66c0ec7d7 2021-09-27 11:02:13 2021-09-27 11:08:18   \n",
       "3d08d039-c5c9-4c44-8fe7-cbd2fb2f6175 2021-09-27 12:12:07 2021-09-27 12:21:30   \n",
       "516fabb8-2a40-41b8-8bc3-12dd39c1f789 2021-09-27 11:18:41 2021-09-27 11:24:31   \n",
       "...                                                  ...                 ...   \n",
       "8fd81df3-42b2-40b8-8504-54dda63bfee7 2021-09-22 12:21:15 2021-09-22 12:24:20   \n",
       "d6e8ba30-d461-4515-b22f-f29ff98b7d83 2021-09-22 12:41:01 2021-09-22 12:48:14   \n",
       "c3d30424-4c6a-4c57-b681-1e948a38b684 2021-09-22 12:24:05 2021-09-22 12:28:39   \n",
       "30b2c09c-7bff-4930-90b4-5297b81155dc 2021-09-22 12:38:25 2021-09-22 12:45:33   \n",
       "098de96b-8dea-459f-a838-dda7211527dd 2021-09-22 12:41:52 2021-09-22 12:43:34   \n",
       "\n",
       "                                      number_ingred       prep_time  \\\n",
       "meal                                                                  \n",
       "d72665d4-7c9b-4747-94bd-a55583fc509e              7 0 days 00:04:02   \n",
       "02e12cd3-b8bb-48c6-bc41-0f1f81bea9ee              7 0 days 00:03:33   \n",
       "9f554000-8407-4564-8085-27f66c0ec7d7              9 0 days 00:06:05   \n",
       "3d08d039-c5c9-4c44-8fe7-cbd2fb2f6175              7 0 days 00:09:23   \n",
       "516fabb8-2a40-41b8-8bc3-12dd39c1f789              8 0 days 00:05:50   \n",
       "...                                             ...             ...   \n",
       "8fd81df3-42b2-40b8-8504-54dda63bfee7              6 0 days 00:03:05   \n",
       "d6e8ba30-d461-4515-b22f-f29ff98b7d83              7 0 days 00:07:13   \n",
       "c3d30424-4c6a-4c57-b681-1e948a38b684              9 0 days 00:04:34   \n",
       "30b2c09c-7bff-4930-90b4-5297b81155dc              7 0 days 00:07:08   \n",
       "098de96b-8dea-459f-a838-dda7211527dd              2 0 days 00:01:42   \n",
       "\n",
       "                                      prep_time_sec  total_count  \\\n",
       "meal                                                               \n",
       "d72665d4-7c9b-4747-94bd-a55583fc509e          242.0            7   \n",
       "02e12cd3-b8bb-48c6-bc41-0f1f81bea9ee          213.0            7   \n",
       "9f554000-8407-4564-8085-27f66c0ec7d7          365.0            9   \n",
       "3d08d039-c5c9-4c44-8fe7-cbd2fb2f6175          563.0            7   \n",
       "516fabb8-2a40-41b8-8bc3-12dd39c1f789          350.0            8   \n",
       "...                                             ...          ...   \n",
       "8fd81df3-42b2-40b8-8504-54dda63bfee7          185.0            6   \n",
       "d6e8ba30-d461-4515-b22f-f29ff98b7d83          433.0            7   \n",
       "c3d30424-4c6a-4c57-b681-1e948a38b684          274.0            9   \n",
       "30b2c09c-7bff-4930-90b4-5297b81155dc          428.0            7   \n",
       "098de96b-8dea-459f-a838-dda7211527dd          102.0            2   \n",
       "\n",
       "                                      total_meal_produce  \n",
       "meal                                                      \n",
       "d72665d4-7c9b-4747-94bd-a55583fc509e                 1.0  \n",
       "02e12cd3-b8bb-48c6-bc41-0f1f81bea9ee                 1.0  \n",
       "9f554000-8407-4564-8085-27f66c0ec7d7                 1.0  \n",
       "3d08d039-c5c9-4c44-8fe7-cbd2fb2f6175                 1.0  \n",
       "516fabb8-2a40-41b8-8bc3-12dd39c1f789                 1.0  \n",
       "...                                                  ...  \n",
       "8fd81df3-42b2-40b8-8504-54dda63bfee7                 1.0  \n",
       "d6e8ba30-d461-4515-b22f-f29ff98b7d83                 1.0  \n",
       "c3d30424-4c6a-4c57-b681-1e948a38b684                 1.0  \n",
       "30b2c09c-7bff-4930-90b4-5297b81155dc                 1.0  \n",
       "098de96b-8dea-459f-a838-dda7211527dd                 1.0  \n",
       "\n",
       "[196 rows x 7 columns]"
      ]
     },
     "execution_count": 714,
     "metadata": {},
     "output_type": "execute_result"
    }
   ],
   "source": [
    "meals_df"
   ]
  },
  {
   "cell_type": "markdown",
   "id": "70c11c4b-ca47-4970-9ec8-4e2c6acaf295",
   "metadata": {},
   "source": [
    "## Part 4:  Is there anything else that can be extracted from this dataset that could shed some light on how the robot / parts of the robot are performing?  Visualisations and metrics are welcome. "
   ]
  },
  {
   "cell_type": "markdown",
   "id": "9397c260-18e2-4fa9-93d3-315ad0f9b78f",
   "metadata": {},
   "source": [
    "the performance of the robot can be evaluated by calculated the success rate for each meal produce <br>\n",
    "for example if a meal requires 6 ingredients, a success rate is measured if all 6 ingredients are dispensed successfully <br>\n",
    "however, if one of the ingredients failed, it will be counted as fail result"
   ]
  },
  {
   "cell_type": "markdown",
   "id": "621e6e68-682f-4da4-bcd8-995fe51860ad",
   "metadata": {},
   "source": [
    "using the same loop"
   ]
  },
  {
   "cell_type": "code",
   "execution_count": 715,
   "id": "b69e5957-b79a-4f2a-ac18-b7ef01666be3",
   "metadata": {},
   "outputs": [],
   "source": [
    "# return list of meal\n",
    "meals = rawdata1.ticket_id.unique()\n"
   ]
  },
  {
   "cell_type": "code",
   "execution_count": 716,
   "id": "1646b69b-1ef7-414b-b46c-0df3ebb581e7",
   "metadata": {},
   "outputs": [
    {
     "name": "stderr",
     "output_type": "stream",
     "text": [
      "100%|██████████████████████████████████████████████████████████████████████████████| 196/196 [00:00<00:00, 2305.37it/s]\n"
     ]
    }
   ],
   "source": [
    "# filtering the dataset using each unique ticket_id, taking each datapoints mentioned using above method\n",
    "total_ing = []\n",
    "num_ing = []\n",
    "\n",
    "for meal in tqdm(meals):    \n",
    "    meal_df = rawdata1.loc[rawdata1.ticket_id == meal]\n",
    "       \n",
    "    temp_len = len(meal_df)\n",
    "    temp_total = meal_df.iloc[0,13]\n",
    "  \n",
    "\n",
    "    total_ing.append(temp_total)\n",
    "    num_ing.append(temp_len)\n"
   ]
  },
  {
   "cell_type": "code",
   "execution_count": 719,
   "id": "0998f800-cd8f-486b-aca7-a7b5b1772494",
   "metadata": {},
   "outputs": [],
   "source": [
    "meals_df = pd.DataFrame({\n",
    "    'meal' : meals,\n",
    "    'number_ingred_dispensed' : num_ing,\n",
    "    'Total_ingred_reg' : total_ing\n",
    "\n",
    "})"
   ]
  },
  {
   "cell_type": "code",
   "execution_count": 720,
   "id": "e9e19801-0a58-4b9d-9500-7f5995fcb9dd",
   "metadata": {},
   "outputs": [],
   "source": [
    "meals_df.loc[meals_df.number_ingred_dispensed == meals_df.Total_ingred_reg, 'Success / Failed'] = 'Success'\n",
    "meals_df.loc[meals_df.number_ingred_dispensed != meals_df.Total_ingred_reg, 'Success / Failed'] = 'Failed'\n"
   ]
  },
  {
   "cell_type": "code",
   "execution_count": 721,
   "id": "7240473a-76a0-4d3a-99aa-e98a6192daf0",
   "metadata": {},
   "outputs": [],
   "source": [
    "x8 = pd.DataFrame(meals_df['Success / Failed'].value_counts())"
   ]
  },
  {
   "cell_type": "code",
   "execution_count": 722,
   "id": "9d50d2ab-e47d-488e-8fb3-123cf9bfad81",
   "metadata": {},
   "outputs": [
    {
     "data": {
      "text/html": [
       "<div>\n",
       "<style scoped>\n",
       "    .dataframe tbody tr th:only-of-type {\n",
       "        vertical-align: middle;\n",
       "    }\n",
       "\n",
       "    .dataframe tbody tr th {\n",
       "        vertical-align: top;\n",
       "    }\n",
       "\n",
       "    .dataframe thead th {\n",
       "        text-align: right;\n",
       "    }\n",
       "</style>\n",
       "<table border=\"1\" class=\"dataframe\">\n",
       "  <thead>\n",
       "    <tr style=\"text-align: right;\">\n",
       "      <th></th>\n",
       "      <th>Success / Failed</th>\n",
       "    </tr>\n",
       "  </thead>\n",
       "  <tbody>\n",
       "    <tr>\n",
       "      <th>Success</th>\n",
       "      <td>175</td>\n",
       "    </tr>\n",
       "    <tr>\n",
       "      <th>Failed</th>\n",
       "      <td>21</td>\n",
       "    </tr>\n",
       "  </tbody>\n",
       "</table>\n",
       "</div>"
      ],
      "text/plain": [
       "         Success / Failed\n",
       "Success               175\n",
       "Failed                 21"
      ]
     },
     "execution_count": 722,
     "metadata": {},
     "output_type": "execute_result"
    }
   ],
   "source": [
    "x8"
   ]
  },
  {
   "cell_type": "code",
   "execution_count": 724,
   "id": "e2e9ac9e-0542-4317-8553-baa02f9b8bcf",
   "metadata": {},
   "outputs": [
    {
     "data": {
      "text/plain": [
       "<AxesSubplot:title={'center':'Robot Performance on Making Meals'}>"
      ]
     },
     "execution_count": 724,
     "metadata": {},
     "output_type": "execute_result"
    },
    {
     "data": {
      "image/png": "[encoded data removed]",
      "text/plain": [
       "<Figure size 432x288 with 1 Axes>"
      ]
     },
     "metadata": {
      "needs_background": "light"
     },
     "output_type": "display_data"
    }
   ],
   "source": [
    "meals_df['Success / Failed'].value_counts().plot.bar(title = 'Robot Performance on Making Meals')"
   ]
  },
  {
   "cell_type": "markdown",
   "id": "b9b588d6-2f5a-4b84-8ed2-ee694678810d",
   "metadata": {},
   "source": [
    "Based on the 196 meals, 175 managed to dispense all the ingredients required. However, 21 of the meals failed to dispense at least one of the ingredients. <br>\n",
    "the success rate of the robot is the total success / total meals = 89% performance"
   ]
  },
  {
   "cell_type": "code",
   "execution_count": null,
   "id": "de3aca4c-d2ac-4616-9eb9-b4fc9daa981e",
   "metadata": {},
   "outputs": [],
   "source": []
  }
 ],
 "metadata": {
  "kernelspec": {
   "display_name": "Python 3 (ipykernel)",
   "language": "python",
   "name": "python3"
  },
  "language_info": {
   "codemirror_mode": {
    "name": "ipython",
    "version": 3
   },
   "file_extension": ".py",
   "mimetype": "text/x-python",
   "name": "python",
   "nbconvert_exporter": "python",
   "pygments_lexer": "ipython3",
   "version": "3.9.5"
  }
 },
 "nbformat": 4,
 "nbformat_minor": 5
}
